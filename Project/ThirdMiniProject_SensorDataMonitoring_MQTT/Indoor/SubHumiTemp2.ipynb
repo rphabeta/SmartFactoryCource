{
 "cells": [
  {
   "cell_type": "code",
   "execution_count": 5,
   "metadata": {},
   "outputs": [
    {
     "name": "stdout",
     "output_type": "stream",
     "text": [
      "Connect with result code 0\n",
      "Sensors/MyOffice/Outdoor/SensorValue b\"{'Temp':24.8,'Humi':63.0, 'Lux' :574.2}\"\n",
      "Sensors/MyOffice/Indoor/SensorValue b\"{'Temp':24.7,'Humi':63.0, 'Lux' :629.2}\"\n",
      "Sensors/MyOffice/Outdoor/SensorValue b\"{'Temp':24.9,'Humi':63.0, 'Lux' :580.0}\"\n",
      "Sensors/MyOffice/Indoor/SensorValue b\"{'Temp':24.7,'Humi':63.0, 'Lux' :616.7}\"\n",
      "Sensors/MyOffice/Outdoor/SensorValue b\"{'Temp':24.9,'Humi':63.0, 'Lux' :521.7}\"\n",
      "Sensors/MyOffice/Indoor/SensorValue b\"{'Temp':24.7,'Humi':63.0, 'Lux' :566.7}\"\n",
      "Sensors/MyOffice/Outdoor/SensorValue b\"{'Temp':24.9,'Humi':62.0, 'Lux' :570.0}\"\n",
      "Sensors/MyOffice/Indoor/SensorValue b\"{'Temp':24.7,'Humi':63.0, 'Lux' :605.8}\"\n",
      "Sensors/MyOffice/Outdoor/SensorValue b\"{'Temp':24.9,'Humi':62.0, 'Lux' :573.3}\"\n",
      "Sensors/MyOffice/Indoor/SensorValue b\"{'Temp':24.7,'Humi':63.0, 'Lux' :627.5}\"\n",
      "Sensors/MyOffice/Outdoor/SensorValue b\"{'Temp':24.9,'Humi':62.0, 'Lux' :556.7}\"\n",
      "Sensors/MyOffice/Indoor/SensorValue b\"{'Temp':24.7,'Humi':62.0, 'Lux' :613.3}\"\n",
      "Sensors/MyOffice/Outdoor/SensorValue b\"{'Temp':24.8,'Humi':62.0, 'Lux' :557.5}\"\n",
      "Sensors/MyOffice/Indoor/SensorValue b\"{'Temp':24.7,'Humi':62.0, 'Lux' :572.5}\"\n",
      "Sensors/MyOffice/Outdoor/SensorValue b\"{'Temp':24.8,'Humi':62.0, 'Lux' :556.7}\"\n",
      "Sensors/MyOffice/Indoor/SensorValue b\"{'Temp':24.7,'Humi':62.0, 'Lux' :555.0}\"\n",
      "Sensors/MyOffice/Outdoor/SensorValue b\"{'Temp':24.8,'Humi':62.0, 'Lux' :550.8}\"\n",
      "Sensors/MyOffice/Indoor/SensorValue b\"{'Temp':24.7,'Humi':62.0, 'Lux' :555.0}\"\n",
      "Sensors/MyOffice/Outdoor/SensorValue b\"{'Temp':24.8,'Humi':61.0, 'Lux' :552.5}\"\n",
      "Sensors/MyOffice/Indoor/SensorValue b\"{'Temp':24.7,'Humi':62.0, 'Lux' :561.7}\"\n",
      "Sensors/MyOffice/Outdoor/SensorValue b\"{'Temp':24.8,'Humi':61.0, 'Lux' :559.2}\"\n",
      "Sensors/MyOffice/Indoor/SensorValue b\"{'Temp':24.7,'Humi':61.0, 'Lux' :557.5}\"\n",
      "Sensors/MyOffice/Outdoor/SensorValue b\"{'Temp':24.8,'Humi':61.0, 'Lux' :508.3}\"\n",
      "Sensors/MyOffice/Indoor/SensorValue b\"{'Temp':24.7,'Humi':61.0, 'Lux' :624.2}\"\n",
      "Sensors/MyOffice/Outdoor/SensorValue b\"{'Temp':24.8,'Humi':61.0, 'Lux' :535.8}\"\n"
     ]
    },
    {
     "ename": "KeyboardInterrupt",
     "evalue": "",
     "output_type": "error",
     "traceback": [
      "\u001b[1;31m---------------------------------------------------------------------------\u001b[0m",
      "\u001b[1;31mKeyboardInterrupt\u001b[0m                         Traceback (most recent call last)",
      "Cell \u001b[1;32mIn[5], line 41\u001b[0m\n\u001b[0;32m     39\u001b[0m client\u001b[39m.\u001b[39mon_message \u001b[39m=\u001b[39m on_message\n\u001b[0;32m     40\u001b[0m client\u001b[39m.\u001b[39mconnect(localHost, \u001b[39m1883\u001b[39m, \u001b[39m60\u001b[39m)\n\u001b[1;32m---> 41\u001b[0m client\u001b[39m.\u001b[39;49mloop_forever( )\n",
      "File \u001b[1;32mc:\\Users\\Admin\\AppData\\Local\\Programs\\Python\\Python311\\Lib\\site-packages\\paho\\mqtt\\client.py:1756\u001b[0m, in \u001b[0;36mClient.loop_forever\u001b[1;34m(self, timeout, max_packets, retry_first_connection)\u001b[0m\n\u001b[0;32m   1754\u001b[0m rc \u001b[39m=\u001b[39m MQTT_ERR_SUCCESS\n\u001b[0;32m   1755\u001b[0m \u001b[39mwhile\u001b[39;00m rc \u001b[39m==\u001b[39m MQTT_ERR_SUCCESS:\n\u001b[1;32m-> 1756\u001b[0m     rc \u001b[39m=\u001b[39m \u001b[39mself\u001b[39;49m\u001b[39m.\u001b[39;49m_loop(timeout)\n\u001b[0;32m   1757\u001b[0m     \u001b[39m# We don't need to worry about locking here, because we've\u001b[39;00m\n\u001b[0;32m   1758\u001b[0m     \u001b[39m# either called loop_forever() when in single threaded mode, or\u001b[39;00m\n\u001b[0;32m   1759\u001b[0m     \u001b[39m# in multi threaded mode when loop_stop() has been called and\u001b[39;00m\n\u001b[0;32m   1760\u001b[0m     \u001b[39m# so no other threads can access _out_packet or _messages.\u001b[39;00m\n\u001b[0;32m   1761\u001b[0m     \u001b[39mif\u001b[39;00m (\u001b[39mself\u001b[39m\u001b[39m.\u001b[39m_thread_terminate \u001b[39mis\u001b[39;00m \u001b[39mTrue\u001b[39;00m\n\u001b[0;32m   1762\u001b[0m         \u001b[39mand\u001b[39;00m \u001b[39mlen\u001b[39m(\u001b[39mself\u001b[39m\u001b[39m.\u001b[39m_out_packet) \u001b[39m==\u001b[39m \u001b[39m0\u001b[39m\n\u001b[0;32m   1763\u001b[0m             \u001b[39mand\u001b[39;00m \u001b[39mlen\u001b[39m(\u001b[39mself\u001b[39m\u001b[39m.\u001b[39m_out_messages) \u001b[39m==\u001b[39m \u001b[39m0\u001b[39m):\n",
      "File \u001b[1;32mc:\\Users\\Admin\\AppData\\Local\\Programs\\Python\\Python311\\Lib\\site-packages\\paho\\mqtt\\client.py:1150\u001b[0m, in \u001b[0;36mClient._loop\u001b[1;34m(self, timeout)\u001b[0m\n\u001b[0;32m   1147\u001b[0m     rlist \u001b[39m=\u001b[39m [\u001b[39mself\u001b[39m\u001b[39m.\u001b[39m_sock, \u001b[39mself\u001b[39m\u001b[39m.\u001b[39m_sockpairR]\n\u001b[0;32m   1149\u001b[0m \u001b[39mtry\u001b[39;00m:\n\u001b[1;32m-> 1150\u001b[0m     socklist \u001b[39m=\u001b[39m select\u001b[39m.\u001b[39mselect(rlist, wlist, [], timeout)\n\u001b[0;32m   1151\u001b[0m \u001b[39mexcept\u001b[39;00m \u001b[39mTypeError\u001b[39;00m:\n\u001b[0;32m   1152\u001b[0m     \u001b[39m# Socket isn't correct type, in likelihood connection is lost\u001b[39;00m\n\u001b[0;32m   1153\u001b[0m     \u001b[39mreturn\u001b[39;00m MQTT_ERR_CONN_LOST\n",
      "\u001b[1;31mKeyboardInterrupt\u001b[0m: "
     ]
    }
   ],
   "source": [
    "from influxdb import InfluxDBClient\t#file name : SubHumiTempInsetMod.py\n",
    "import paho.mqtt.client as mqtt\n",
    "\n",
    "localHost = '192.168.2.35'\n",
    "\n",
    "dbClient = InfluxDBClient(host=localHost, port=8086, username='influx_woo', password='1234',\n",
    "\t\tdatabase='db_riatech')\n",
    "def on_connect( client, userdata, flags, rc ):\n",
    "   print(\"Connect with result code \" + str(rc) )\n",
    "   client.subscribe(\"Sensors/MyOffice/#\")\n",
    "\n",
    "\n",
    "def on_message( client, userdata, msg ):\n",
    "   print( msg.topic + \" \" +str(msg.payload) )\n",
    "   # msg.topic 🡪 ‘Sensors/MyOffice/Indoor/SensorValue’\n",
    "   topic = msg.topic.split('/')\n",
    "   loc = topic[1]\n",
    "   subloc = topic[2]\n",
    "   # msg.payload 🡪 “{‘Temp’ : 23.1, ‘Humi’: 33.3}”\n",
    "   payload = eval(msg.payload)\n",
    "\n",
    "   json_body = [ ]\n",
    "   data_point = {\n",
    "\t'measurement': 'Sensors',\n",
    "\t'tags': {'Location': ' ', 'SubLocation':' '},\n",
    "\t'fields': {'Temp': 0.0, 'Humi':0.0, 'Lux' : 0.0}\n",
    "\t}\n",
    "   data_point['tags']['Location'] = loc\n",
    "   data_point['tags']['SubLocation'] = subloc\n",
    "   data_point['fields']['Temp'] = payload['Temp']\n",
    "   data_point['fields']['Humi'] = payload['Humi']\n",
    "   data_point['fields']['Lux'] = payload['Lux']\n",
    "   json_body.append(data_point)\n",
    "   dbClient.write_points( json_body )\n",
    "\n",
    "client = mqtt.Client( )\n",
    "client.username_pw_set(username=\"mqtt_riatech\", password=\"1234\")\n",
    "client.on_connect = on_connect\n",
    "client.on_message = on_message\n",
    "client.connect(localHost, 1883, 60)\n",
    "client.loop_forever( )\n"
   ]
  }
 ],
 "metadata": {
  "kernelspec": {
   "display_name": "Python 3",
   "language": "python",
   "name": "python3"
  },
  "language_info": {
   "codemirror_mode": {
    "name": "ipython",
    "version": 3
   },
   "file_extension": ".py",
   "mimetype": "text/x-python",
   "name": "python",
   "nbconvert_exporter": "python",
   "pygments_lexer": "ipython3",
   "version": "3.11.5"
  },
  "orig_nbformat": 4
 },
 "nbformat": 4,
 "nbformat_minor": 2
}
